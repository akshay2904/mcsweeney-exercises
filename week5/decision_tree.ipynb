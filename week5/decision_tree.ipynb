{
 "cells": [
  {
   "cell_type": "code",
   "execution_count": null,
   "metadata": {},
   "outputs": [],
   "source": [
    "!pip3 install matplotlib\n",
    "!pip3 install pandas\n",
    "!pip3 install scikit-learn\n"
   ]
  },
  {
   "cell_type": "code",
   "execution_count": null,
   "metadata": {},
   "outputs": [],
   "source": [
    "%matplotlib inline\n",
    "import numpy as np\n",
    "import matplotlib.pyplot as plt\n",
    "from sklearn.model_selection import train_test_split\n",
    "np.random.seed(1701)\n",
    "\n",
    "randX = np.random.randn(1000)/2\n",
    "randY = randX**2+randX**3 + 0.5*np.random.randn(1000)\n",
    "xTrain, xTest, yTrain, yTest = train_test_split(randX, randY, test_size=0.33, random_state=42)\n",
    "\n",
    "def plotDataset(x,y):\n",
    "    plt.scatter(x, y)\n",
    "    plt.title(\"Random Dataset\")\n",
    "    plt.xlabel(\"x\"), \n",
    "    plt.ylabel(\"y\")\n",
    "    plt.show()\n",
    "\n",
    "plotDataset(xTrain, yTrain)\n",
    "\n"
   ]
  },
  {
   "cell_type": "code",
   "execution_count": null,
   "metadata": {},
   "outputs": [],
   "source": [
    "from sklearn.tree import DecisionTreeRegressor\n",
    "from sklearn.metrics import mean_squared_error\n",
    "from sklearn import tree\n",
    "def plotTree(model, x, y):\n",
    "    xp = np.arange(-2.0, 2.0, 0.01).reshape(-1, 1)\n",
    "    yp = model.predict(xp)\n",
    "    plt.scatter(x, y, alpha=0.1)\n",
    "    plt.plot(xp, yp, linewidth=2, color='orange')\n",
    "    plt.show()\n",
    "\n",
    "\n",
    "# Create your Tree, change hyperparameters to reduce test error\n",
    "model = DecisionTreeRegressor()\n",
    "\n",
    "# Train\n",
    "model.fit(np.array(xTrain).reshape(-1,1), yTrain)\n",
    "\n",
    "# Plot the regressed line\n",
    "plotTree(model, xTrain, yTrain)\n",
    "\n",
    "\n",
    "# Compute Training error\n",
    "train_predictions = model.predict(np.array(xTrain).reshape(-1,1))\n",
    "training_rmse = np.sqrt(mean_squared_error(yTrain, train_predictions))\n",
    "print(f'Train RMSE: {training_rmse}')\n",
    "\n",
    "# Compute Test error\n",
    "test_predictions = model.predict(np.array(xTest).reshape(-1,1))\n",
    "test_rmse = np.sqrt(mean_squared_error(yTest, test_predictions))\n",
    "print(f'Test RMSE: {test_rmse}')\n",
    "\n",
    "# Draw the tree\n",
    "plt.figure(figsize=(24,24))\n",
    "tree.plot_tree(model,  fontsize=10)\n",
    "plt.savefig('tree_high_dpi', dpi=100)\n"
   ]
  }
 ],
 "metadata": {
  "kernelspec": {
   "display_name": "Python 3",
   "language": "python",
   "name": "python3"
  },
  "language_info": {
   "codemirror_mode": {
    "name": "ipython",
    "version": 3
   },
   "file_extension": ".py",
   "mimetype": "text/x-python",
   "name": "python",
   "nbconvert_exporter": "python",
   "pygments_lexer": "ipython3",
   "version": "3.10.13"
  }
 },
 "nbformat": 4,
 "nbformat_minor": 2
}
