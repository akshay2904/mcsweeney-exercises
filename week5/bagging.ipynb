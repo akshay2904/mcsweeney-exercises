{
 "cells": [
  {
   "cell_type": "code",
   "execution_count": null,
   "metadata": {},
   "outputs": [],
   "source": [
    "!pip3 install matplotlib\n",
    "!pip3 install pandas\n",
    "!pip3 install scikit-learn\n"
   ]
  },
  {
   "cell_type": "code",
   "execution_count": null,
   "metadata": {},
   "outputs": [],
   "source": [
    "%matplotlib inline\n",
    "import numpy as np\n",
    "import matplotlib.pyplot as plt\n",
    "from sklearn.model_selection import train_test_split\n",
    "np.random.seed(1701)\n",
    "\n",
    "randX = np.random.randn(1000)/2\n",
    "randY = randX**2+randX**3 + 0.5*np.random.randn(1000)\n",
    "xTrain, xTest, yTrain, yTest = train_test_split(randX, randY, test_size=0.33, random_state=42)\n",
    "\n",
    "def plotDataset(x,y):\n",
    "    plt.scatter(x, y)\n",
    "    plt.title(\"Random Dataset\")\n",
    "    plt.xlabel(\"x\"), \n",
    "    plt.ylabel(\"y\")\n",
    "    plt.show()\n",
    "\n",
    "plotDataset(xTrain, yTrain)\n"
   ]
  },
  {
   "cell_type": "code",
   "execution_count": null,
   "metadata": {},
   "outputs": [],
   "source": [
    "from sklearn.tree import DecisionTreeRegressor\n",
    "from sklearn.metrics import mean_squared_error\n",
    "from sklearn.utils import resample\n",
    "\n",
    "# bag a bunch of models (done by hand for fun)\n",
    "k = 1        # Number of Trees to learn\n",
    "n_prime = 1.0  # Percentage of samples in data subsets: [0:1]\n",
    "\n",
    "\n",
    "yp_trained_bag = np.zeros(len(xTrain))\n",
    "yp_test_bag = np.zeros(len(xTest))\n",
    "xp = np.arange(-2.0, 2.0, 0.01)\n",
    "yp_bagged = np.zeros(len(xp))\n",
    "\n",
    "for i in range(k):\n",
    "    xr, yr = resample(xTrain, yTrain, n_samples = int(n_prime * len(xTrain)))\n",
    "    model = DecisionTreeRegressor()\n",
    "    model.fit(np.array(xr).reshape(-1, 1), yr)\n",
    "    yp_bagged += model.predict(np.array(xp).reshape(-1,1))/float(k)\n",
    "    # Sum / Average test and train perdicionts\n",
    "    yp_trained_bag += model.predict(np.array(xTrain).reshape(-1,1))/float(k)\n",
    "    yp_test_bag += model.predict(np.array(xTest).reshape(-1,1))/float(k)\n",
    "    \n",
    "\n",
    "# Plot the results\n",
    "plt.figure(figsize = (10, 10))\n",
    "plt.title(f'Bagging of {k} Trees with {n_prime * 100}% of data')\n",
    "plt.scatter(xTrain, yTrain, alpha=0.1)\n",
    "plt.xlabel(\"x\")\n",
    "plt.ylabel(\"y\")\n",
    "plt.plot(xp, yp_bagged, linewidth=2, color='orange')\n",
    "plt.show()\n",
    "\n",
    "# Compute Training error\n",
    "training_rmse = np.sqrt(mean_squared_error(yTrain, yp_trained_bag))\n",
    "print(f'Train RMSE: {training_rmse}')\n",
    "\n",
    "# Compute Test error\n",
    "test_rmse = np.sqrt(mean_squared_error(yTest, yp_test_bag))\n",
    "print(f'Test RMSE: {test_rmse}')\n"
   ]
  }
 ],
 "metadata": {
  "kernelspec": {
   "display_name": "Python 3",
   "language": "python",
   "name": "python3"
  },
  "language_info": {
   "codemirror_mode": {
    "name": "ipython",
    "version": 3
   },
   "file_extension": ".py",
   "mimetype": "text/x-python",
   "name": "python",
   "nbconvert_exporter": "python",
   "pygments_lexer": "ipython3",
   "version": "3.11.1"
  }
 },
 "nbformat": 4,
 "nbformat_minor": 2
}
